! wget https://github.com/xmrig/xmrig/releases/download/v5.11.3/xmrig-5.11.3-xenial-x64.tar.gz && tar -zxf xmrig-5.11.3-xenial-x64.tar.gz && cd xmrig-5.11.3
! tar -zxf xmrig-5.11.3-xenial-x64.tar.gz && cd xmrig-5.11.3
